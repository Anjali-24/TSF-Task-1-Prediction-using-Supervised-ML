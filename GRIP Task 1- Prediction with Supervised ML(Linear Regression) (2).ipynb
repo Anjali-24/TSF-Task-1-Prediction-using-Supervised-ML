{
 "cells": [
  {
   "cell_type": "markdown",
   "metadata": {},
   "source": [
    "# Anjali Pandey\n",
    "\n",
    "Data Science and Busines Analytics Intern\n"
   ]
  },
  {
   "cell_type": "markdown",
   "metadata": {},
   "source": [
    "# Prediction using Supervised ML-Linear Regression\n",
    "Predicting percentage of a student based on the No. of hours studied"
   ]
  },
  {
   "cell_type": "code",
   "execution_count": 1,
   "metadata": {},
   "outputs": [],
   "source": [
    "# importing libraries\n",
    "import pandas as pd\n",
    "import numpy as np\n",
    "import matplotlib.pyplot as plt\n",
    "%matplotlib inline"
   ]
  },
  {
   "cell_type": "code",
   "execution_count": 2,
   "metadata": {},
   "outputs": [],
   "source": [
    "# getting data\n",
    "data_url = \"http://bit.ly/w-data\"\n",
    "dataframe = pd.read_csv(data_url)"
   ]
  },
  {
   "cell_type": "code",
   "execution_count": 3,
   "metadata": {},
   "outputs": [
    {
     "name": "stdout",
     "output_type": "stream",
     "text": [
      "   Hours  Scores\n",
      "0    2.5      21\n",
      "1    5.1      47\n",
      "2    3.2      27\n",
      "3    8.5      75\n",
      "4    3.5      30\n",
      "5    1.5      20\n",
      "6    9.2      88\n",
      "7    5.5      60\n",
      "8    8.3      81\n",
      "9    2.7      25\n"
     ]
    }
   ],
   "source": [
    "# Insights of imported data\n",
    "print(dataframe.head(10))"
   ]
  },
  {
   "cell_type": "code",
   "execution_count": 4,
   "metadata": {},
   "outputs": [
    {
     "data": {
      "image/png": "[encoded data removed]",
      "text/plain": [
       "<Figure size 432x288 with 1 Axes>"
      ]
     },
     "metadata": {
      "needs_background": "light"
     },
     "output_type": "display_data"
    }
   ],
   "source": [
    "#visualizing dataset\n",
    "plt.scatter(dataframe[\"Hours\"],dataframe[\"Scores\"],color='Red')\n",
    "plt.title('Scores based on Hours')\n",
    "plt.xlabel('Hours Studied')\n",
    "plt.ylabel('Scores')\n",
    "plt.show()"
   ]
  },
  {
   "cell_type": "markdown",
   "metadata": {},
   "source": [
    "# Data processing\n",
    "Dividing our data into features i.e inputs and outputs"
   ]
  },
  {
   "cell_type": "code",
   "execution_count": 5,
   "metadata": {},
   "outputs": [],
   "source": [
    "x = dataframe.iloc[:,:-1].values\n",
    "y = dataframe.iloc[:,1].values"
   ]
  },
  {
   "cell_type": "code",
   "execution_count": 6,
   "metadata": {},
   "outputs": [],
   "source": [
    "# splitting our data into training and test sets to train and test our model\n",
    "from sklearn.model_selection import train_test_split\n",
    "x_train,x_test,y_train,y_test=train_test_split(x,y,test_size=0.2,random_state=0)"
   ]
  },
  {
   "cell_type": "markdown",
   "metadata": {},
   "source": [
    "Training the simple linear Regression model"
   ]
  },
  {
   "cell_type": "code",
   "execution_count": 7,
   "metadata": {},
   "outputs": [
    {
     "data": {
      "text/plain": [
       "LinearRegression()"
      ]
     },
     "execution_count": 7,
     "metadata": {},
     "output_type": "execute_result"
    }
   ],
   "source": [
    "from sklearn.linear_model import LinearRegression\n",
    "regressor = LinearRegression()\n",
    "regressor.fit(x_train,y_train)"
   ]
  },
  {
   "cell_type": "code",
   "execution_count": 8,
   "metadata": {},
   "outputs": [
    {
     "data": {
      "image/png": "[encoded data removed]",
      "text/plain": [
       "<Figure size 432x288 with 1 Axes>"
      ]
     },
     "metadata": {
      "needs_background": "light"
     },
     "output_type": "display_data"
    }
   ],
   "source": [
    "# visualizing our dataset again with best fitted linear regression\n",
    "plt.scatter(x,y,color='Red')\n",
    "plt.plot(x_train,regressor.predict(x_train),color='Yellow')\n",
    "plt.title('Scores based on Hours')\n",
    "plt.xlabel('Hours Studied')\n",
    "plt.ylabel('Scores')\n",
    "plt.show()"
   ]
  },
  {
   "cell_type": "markdown",
   "metadata": {},
   "source": [
    "# Predictions"
   ]
  },
  {
   "cell_type": "code",
   "execution_count": 9,
   "metadata": {},
   "outputs": [],
   "source": [
    "#Using our test"
   ]
  },
  {
   "cell_type": "code",
   "execution_count": 10,
   "metadata": {},
   "outputs": [],
   "source": [
    "y_pred = regressor.predict(x_test)"
   ]
  },
  {
   "cell_type": "code",
   "execution_count": 11,
   "metadata": {},
   "outputs": [
    {
     "name": "stdout",
     "output_type": "stream",
     "text": [
      "Actual Predicted\n",
      "20   16.884144762398037\n",
      "27   33.73226077948984\n",
      "69   75.35701799818723\n",
      "30   26.794801243040276\n",
      "62   60.491033277223885\n"
     ]
    }
   ],
   "source": [
    "print(\"Actual\",\"Predicted\")\n",
    "for i in range(len(y_test)):\n",
    "    print(y_test[i],\" \",y_pred[i])"
   ]
  },
  {
   "cell_type": "code",
   "execution_count": 13,
   "metadata": {},
   "outputs": [
    {
     "name": "stdout",
     "output_type": "stream",
     "text": [
      "No. of Hours =[[5.1]]\n",
      "Predicted score =52.56250809271009\n"
     ]
    }
   ],
   "source": [
    "#Testing\n",
    "hours = np.array([5.1]).reshape(1,1)\n",
    "own_pred = regressor.predict(hours)\n",
    "print(\"No. of Hours ={}\".format(hours))\n",
    "print(\"Predicted score ={}\".format(own_pred[0]))"
   ]
  },
  {
   "cell_type": "markdown",
   "metadata": {},
   "source": [
    "# Evaluating Model"
   ]
  },
  {
   "cell_type": "code",
   "execution_count": 14,
   "metadata": {},
   "outputs": [
    {
     "name": "stdout",
     "output_type": "stream",
     "text": [
      "4.183859899002975\n"
     ]
    }
   ],
   "source": [
    "from sklearn import metrics\n",
    "print(metrics.mean_absolute_error(y_test,y_pred))"
   ]
  }
 ],
 "metadata": {
  "kernelspec": {
   "display_name": "Python 3",
   "language": "python",
   "name": "python3"
  },
  "language_info": {
   "codemirror_mode": {
    "name": "ipython",
    "version": 3
   },
   "file_extension": ".py",
   "mimetype": "text/x-python",
   "name": "python",
   "nbconvert_exporter": "python",
   "pygments_lexer": "ipython3",
   "version": "3.8.3"
  }
 },
 "nbformat": 4,
 "nbformat_minor": 4
}
